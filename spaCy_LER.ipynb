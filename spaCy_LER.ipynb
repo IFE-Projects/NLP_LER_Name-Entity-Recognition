{
 "cells": [
  {
   "cell_type": "code",
   "execution_count": 12,
   "id": "43da04ce-f967-4919-bb38-21421cf152c3",
   "metadata": {},
   "outputs": [
    {
     "name": "stdout",
     "output_type": "stream",
     "text": [
      "Before: \n",
      " [('Calvert Cliffs', 0, 14, 'PERSON'), ('2', 15, 16, 'CARDINAL'), ('Feedwater Pump Inoperable', 27, 52, 'ORG'), ('Improper Reset of', 60, 77, 'FAC'), ('August 10, 2021', 111, 126, 'DATE'), ('22', 154, 156, 'CARDINAL'), ('Feedwater', 167, 176, 'PERSON'), ('March 2021', 234, 244, 'DATE'), ('22', 263, 265, 'CARDINAL'), ('22', 402, 404, 'CARDINAL'), ('22', 482, 484, 'CARDINAL')]\n",
      "After: \n",
      " [('Calvert Cliffs 2\\n', 0, 4, 'PLACE'), ('Feedwater Pump Inoperable', 5, 8, 'ORG'), ('Improper Reset of', 10, 13, 'FAC'), ('August 10, 2021', 20, 24, 'DATE'), ('22', 29, 30, 'CARDINAL'), ('Feedwater', 31, 32, 'PERSON'), ('March 2021', 44, 46, 'DATE'), ('22', 52, 53, 'CARDINAL'), ('22', 75, 76, 'CARDINAL'), ('22', 90, 91, 'CARDINAL')]\n"
     ]
    }
   ],
   "source": [
    "import spacy\n",
    "\n",
    "from spacy.tokens import Span\n",
    "\n",
    "\n",
    "nlp = spacy.load(\"en_core_web_sm\")\n",
    "\n",
    "doc = nlp(\"Apple is looking at buying U.K. startup for $1 billion\")\n",
    "\n",
    "doc_LER = nlp(\"\"\"Calvert Cliffs 2\n",
    "Auxiliary Feedwater Pump Inoperable due to Improper Reset of Trip Throttle Valve\n",
    "Abstract: On August 10, 2021 it was determined that the 22 Auxiliary Feedwater (AFW) Pump trip throttle valve was not reset properly in March 2021. As a result, the 22 AFW Pump was determined to be inoperable for a period longer than allowed by the technical specification condition completion time. The 22 AFW Pump was subsequently reset properly. The cause of the improper reset of 22 AFW Pump trip throttle valve was due to inadequate procedural guidance. Actions were taken to update the procedure providing additional detail to ensure the trip throttle valve is reset properly.\"\"\")\n",
    "\n",
    "ents_LER_bf = [(e.text, e.start_char, e.end_char, e.label_) for e in doc_LER.ents]\n",
    "print('Before: \\n', ents_LER_bf)\n",
    "\n",
    "# Create a span for the new entity\n",
    "LER_ent = Span(doc_LER, 0, 4, label=\"PLACE\")\n",
    "orig_ents = list(doc_LER.ents)\n",
    "\n",
    "# Option 1: Modify the provided entity spans, leaving the rest unmodified\n",
    "doc_LER.set_ents([LER_ent], default=\"unmodified\")\n",
    "\n",
    "ents_LER_af = [(e.text, e.start, e.end, e.label_) for e in doc_LER.ents]\n",
    "print('After: \\n', ents_LER_af)"
   ]
  },
  {
   "cell_type": "code",
   "execution_count": 14,
   "id": "b8813c2c-026d-4dd8-925c-a438012e11ff",
   "metadata": {},
   "outputs": [
    {
     "name": "stdout",
     "output_type": "stream",
     "text": [
      "Apple 0 5 ORG\n",
      "U.K. 27 31 GPE\n",
      "$1 billion 44 54 MONEY\n"
     ]
    },
    {
     "data": {
      "text/html": [
       "<span class=\"tex2jax_ignore\"><div class=\"entities\" style=\"line-height: 2.5; direction: ltr\">\n",
       "<mark class=\"entity\" style=\"background: #7aecec; padding: 0.45em 0.6em; margin: 0 0.25em; line-height: 1; border-radius: 0.35em;\">\n",
       "    Apple\n",
       "    <span style=\"font-size: 0.8em; font-weight: bold; line-height: 1; border-radius: 0.35em; vertical-align: middle; margin-left: 0.5rem\">ORG</span>\n",
       "</mark>\n",
       " is looking at buying \n",
       "<mark class=\"entity\" style=\"background: #feca74; padding: 0.45em 0.6em; margin: 0 0.25em; line-height: 1; border-radius: 0.35em;\">\n",
       "    U.K.\n",
       "    <span style=\"font-size: 0.8em; font-weight: bold; line-height: 1; border-radius: 0.35em; vertical-align: middle; margin-left: 0.5rem\">GPE</span>\n",
       "</mark>\n",
       " startup for \n",
       "<mark class=\"entity\" style=\"background: #e4e7d2; padding: 0.45em 0.6em; margin: 0 0.25em; line-height: 1; border-radius: 0.35em;\">\n",
       "    $1 billion\n",
       "    <span style=\"font-size: 0.8em; font-weight: bold; line-height: 1; border-radius: 0.35em; vertical-align: middle; margin-left: 0.5rem\">MONEY</span>\n",
       "</mark>\n",
       "</div></span>"
      ],
      "text/plain": [
       "<IPython.core.display.HTML object>"
      ]
     },
     "metadata": {},
     "output_type": "display_data"
    }
   ],
   "source": [
    "for ent in doc.ents:\n",
    "    print(ent.text, ent.start_char, ent.end_char, ent.label_)\n",
    "spacy.displacy.render(doc, style=\"ent\")"
   ]
  },
  {
   "cell_type": "code",
   "execution_count": 13,
   "id": "9c3cf282-35cf-4d55-996f-83e2d5de2388",
   "metadata": {},
   "outputs": [
    {
     "name": "stdout",
     "output_type": "stream",
     "text": [
      "Calvert Cliffs 2\n",
      " 0 17 PLACE\n",
      "Feedwater Pump Inoperable 27 52 ORG\n",
      "Improper Reset of 60 77 FAC\n",
      "August 10, 2021 111 126 DATE\n",
      "22 154 156 CARDINAL\n",
      "Feedwater 167 176 PERSON\n",
      "March 2021 234 244 DATE\n",
      "22 263 265 CARDINAL\n",
      "22 402 404 CARDINAL\n",
      "22 482 484 CARDINAL\n"
     ]
    },
    {
     "data": {
      "text/html": [
       "<span class=\"tex2jax_ignore\"><div class=\"entities\" style=\"line-height: 2.5; direction: ltr\">\n",
       "<mark class=\"entity\" style=\"background: #ddd; padding: 0.45em 0.6em; margin: 0 0.25em; line-height: 1; border-radius: 0.35em;\">\n",
       "    Calvert Cliffs 2\n",
       "\n",
       "    <span style=\"font-size: 0.8em; font-weight: bold; line-height: 1; border-radius: 0.35em; vertical-align: middle; margin-left: 0.5rem\">PLACE</span>\n",
       "</mark>\n",
       "Auxiliary \n",
       "<mark class=\"entity\" style=\"background: #7aecec; padding: 0.45em 0.6em; margin: 0 0.25em; line-height: 1; border-radius: 0.35em;\">\n",
       "    Feedwater Pump Inoperable\n",
       "    <span style=\"font-size: 0.8em; font-weight: bold; line-height: 1; border-radius: 0.35em; vertical-align: middle; margin-left: 0.5rem\">ORG</span>\n",
       "</mark>\n",
       " due to \n",
       "<mark class=\"entity\" style=\"background: #9cc9cc; padding: 0.45em 0.6em; margin: 0 0.25em; line-height: 1; border-radius: 0.35em;\">\n",
       "    Improper Reset of\n",
       "    <span style=\"font-size: 0.8em; font-weight: bold; line-height: 1; border-radius: 0.35em; vertical-align: middle; margin-left: 0.5rem\">FAC</span>\n",
       "</mark>\n",
       " Trip Throttle Valve</br>Abstract: On \n",
       "<mark class=\"entity\" style=\"background: #bfe1d9; padding: 0.45em 0.6em; margin: 0 0.25em; line-height: 1; border-radius: 0.35em;\">\n",
       "    August 10, 2021\n",
       "    <span style=\"font-size: 0.8em; font-weight: bold; line-height: 1; border-radius: 0.35em; vertical-align: middle; margin-left: 0.5rem\">DATE</span>\n",
       "</mark>\n",
       " it was determined that the \n",
       "<mark class=\"entity\" style=\"background: #e4e7d2; padding: 0.45em 0.6em; margin: 0 0.25em; line-height: 1; border-radius: 0.35em;\">\n",
       "    22\n",
       "    <span style=\"font-size: 0.8em; font-weight: bold; line-height: 1; border-radius: 0.35em; vertical-align: middle; margin-left: 0.5rem\">CARDINAL</span>\n",
       "</mark>\n",
       " Auxiliary \n",
       "<mark class=\"entity\" style=\"background: #aa9cfc; padding: 0.45em 0.6em; margin: 0 0.25em; line-height: 1; border-radius: 0.35em;\">\n",
       "    Feedwater\n",
       "    <span style=\"font-size: 0.8em; font-weight: bold; line-height: 1; border-radius: 0.35em; vertical-align: middle; margin-left: 0.5rem\">PERSON</span>\n",
       "</mark>\n",
       " (AFW) Pump trip throttle valve was not reset properly in \n",
       "<mark class=\"entity\" style=\"background: #bfe1d9; padding: 0.45em 0.6em; margin: 0 0.25em; line-height: 1; border-radius: 0.35em;\">\n",
       "    March 2021\n",
       "    <span style=\"font-size: 0.8em; font-weight: bold; line-height: 1; border-radius: 0.35em; vertical-align: middle; margin-left: 0.5rem\">DATE</span>\n",
       "</mark>\n",
       ". As a result, the \n",
       "<mark class=\"entity\" style=\"background: #e4e7d2; padding: 0.45em 0.6em; margin: 0 0.25em; line-height: 1; border-radius: 0.35em;\">\n",
       "    22\n",
       "    <span style=\"font-size: 0.8em; font-weight: bold; line-height: 1; border-radius: 0.35em; vertical-align: middle; margin-left: 0.5rem\">CARDINAL</span>\n",
       "</mark>\n",
       " AFW Pump was determined to be inoperable for a period longer than allowed by the technical specification condition completion time. The \n",
       "<mark class=\"entity\" style=\"background: #e4e7d2; padding: 0.45em 0.6em; margin: 0 0.25em; line-height: 1; border-radius: 0.35em;\">\n",
       "    22\n",
       "    <span style=\"font-size: 0.8em; font-weight: bold; line-height: 1; border-radius: 0.35em; vertical-align: middle; margin-left: 0.5rem\">CARDINAL</span>\n",
       "</mark>\n",
       " AFW Pump was subsequently reset properly. The cause of the improper reset of \n",
       "<mark class=\"entity\" style=\"background: #e4e7d2; padding: 0.45em 0.6em; margin: 0 0.25em; line-height: 1; border-radius: 0.35em;\">\n",
       "    22\n",
       "    <span style=\"font-size: 0.8em; font-weight: bold; line-height: 1; border-radius: 0.35em; vertical-align: middle; margin-left: 0.5rem\">CARDINAL</span>\n",
       "</mark>\n",
       " AFW Pump trip throttle valve was due to inadequate procedural guidance. Actions were taken to update the procedure providing additional detail to ensure the trip throttle valve is reset properly.</div></span>"
      ],
      "text/plain": [
       "<IPython.core.display.HTML object>"
      ]
     },
     "metadata": {},
     "output_type": "display_data"
    }
   ],
   "source": [
    "for ent in doc_LER.ents:\n",
    "    print(ent.text, ent.start_char, ent.end_char, ent.label_)\n",
    "spacy.displacy.render(doc_LER, style=\"ent\")"
   ]
  },
  {
   "cell_type": "code",
   "execution_count": 16,
   "id": "429c204a-6169-447a-89b6-71b84464be79",
   "metadata": {},
   "outputs": [
    {
     "data": {
      "text/plain": [
       "<spacy.vocab.Vocab at 0x170227fc3a0>"
      ]
     },
     "metadata": {},
     "output_type": "display_data"
    }
   ],
   "source": [
    "display(nlp.vocab)"
   ]
  },
  {
   "cell_type": "code",
   "execution_count": null,
   "id": "c80e94ba-7781-44b2-870c-fe590202012a",
   "metadata": {},
   "outputs": [],
   "source": []
  }
 ],
 "metadata": {
  "kernelspec": {
   "display_name": "nlp",
   "language": "python",
   "name": "nlp"
  },
  "language_info": {
   "codemirror_mode": {
    "name": "ipython",
    "version": 3
   },
   "file_extension": ".py",
   "mimetype": "text/x-python",
   "name": "python",
   "nbconvert_exporter": "python",
   "pygments_lexer": "ipython3",
   "version": "3.10.4"
  }
 },
 "nbformat": 4,
 "nbformat_minor": 5
}
