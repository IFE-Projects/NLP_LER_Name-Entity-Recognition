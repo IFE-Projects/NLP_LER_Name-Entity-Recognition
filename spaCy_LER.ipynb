{
 "cells": [
  {
   "cell_type": "code",
   "execution_count": 12,
   "id": "43da04ce-f967-4919-bb38-21421cf152c3",
   "metadata": {},
   "outputs": [
    {
     "name": "stdout",
     "output_type": "stream",
     "text": [
      "Before: \n",
      " [('Calvert Cliffs', 0, 14, 'PERSON'), ('2', 15, 16, 'CARDINAL'), ('Feedwater Pump Inoperable', 27, 52, 'ORG'), ('Improper Reset of', 60, 77, 'FAC'), ('August 10, 2021', 111, 126, 'DATE'), ('22', 154, 156, 'CARDINAL'), ('Feedwater', 167, 176, 'PERSON'), ('March 2021', 234, 244, 'DATE'), ('22', 263, 265, 'CARDINAL'), ('22', 402, 404, 'CARDINAL'), ('22', 482, 484, 'CARDINAL')]\n",
      "After: \n",
      " [('Calvert Cliffs 2\\n', 0, 4, 'PLACE'), ('Feedwater Pump Inoperable', 5, 8, 'ORG'), ('Improper Reset of', 10, 13, 'FAC'), ('August 10, 2021', 20, 24, 'DATE'), ('22', 29, 30, 'CARDINAL'), ('Feedwater', 31, 32, 'PERSON'), ('March 2021', 44, 46, 'DATE'), ('22', 52, 53, 'CARDINAL'), ('22', 75, 76, 'CARDINAL'), ('22', 90, 91, 'CARDINAL')]\n"
     ]
    }
   ],
   "source": [
    "import spacy\n",
    "\n",
    "from spacy.tokens import Span\n",
    "\n",
    "\n",
    "nlp = spacy.load(\"en_core_web_sm\")\n",
    "\n",
    "doc = nlp(\"Apple is looking at buying U.K. startup for $1 billion\")\n",
    "\n",
    "doc_LER = nlp(\"\"\"Calvert Cliffs 2\n",
    "Auxiliary Feedwater Pump Inoperable due to Improper Reset of Trip Throttle Valve\n",
    "Abstract: On August 10, 2021 it was determined that the 22 Auxiliary Feedwater (AFW) Pump trip throttle valve was not reset properly in March 2021. As a result, the 22 AFW Pump was determined to be inoperable for a period longer than allowed by the technical specification condition completion time. The 22 AFW Pump was subsequently reset properly. The cause of the improper reset of 22 AFW Pump trip throttle valve was due to inadequate procedural guidance. Actions were taken to update the procedure providing additional detail to ensure the trip throttle valve is reset properly.\"\"\")\n",
    "\n",
    "ents_LER_bf = [(e.text, e.start_char, e.end_char, e.label_) for e in doc_LER.ents]\n",
    "print('Before: \\n', ents_LER_bf)\n",
    "\n",
    "# Create a span for the new entity\n",
    "LER_ent = Span(doc_LER, 0, 4, label=\"PLACE\")\n",
    "orig_ents = list(doc_LER.ents)\n",
    "\n",
    "# Option 1: Modify the provided entity spans, leaving the rest unmodified\n",
    "doc_LER.set_ents([LER_ent], default=\"unmodified\")\n",
    "\n",
    "ents_LER_af = [(e.text, e.start, e.end, e.label_) for e in doc_LER.ents]\n",
    "print('After: \\n', ents_LER_af)"
   ]
  },
  {
   "cell_type": "code",
   "execution_count": 14,
   "id": "b8813c2c-026d-4dd8-925c-a438012e11ff",
   "metadata": {},
   "outputs": [
    {
     "name": "stdout",
     "output_type": "stream",
     "text": [
      "Apple 0 5 ORG\n",
      "U.K. 27 31 GPE\n",
      "$1 billion 44 54 MONEY\n"
     ]
    },
    {
     "data": {
      "text/html": [
       "<span class=\"tex2jax_ignore\"><div class=\"entities\" style=\"line-height: 2.5; direction: ltr\">\n",
       "<mark class=\"entity\" style=\"background: #7aecec; padding: 0.45em 0.6em; margin: 0 0.25em; line-height: 1; border-radius: 0.35em;\">\n",
       "    Apple\n",
       "    <span style=\"font-size: 0.8em; font-weight: bold; line-height: 1; border-radius: 0.35em; vertical-align: middle; margin-left: 0.5rem\">ORG</span>\n",
       "</mark>\n",
       " is looking at buying \n",
       "<mark class=\"entity\" style=\"background: #feca74; padding: 0.45em 0.6em; margin: 0 0.25em; line-height: 1; border-radius: 0.35em;\">\n",
       "    U.K.\n",
       "    <span style=\"font-size: 0.8em; font-weight: bold; line-height: 1; border-radius: 0.35em; vertical-align: middle; margin-left: 0.5rem\">GPE</span>\n",
       "</mark>\n",
       " startup for \n",
       "<mark class=\"entity\" style=\"background: #e4e7d2; padding: 0.45em 0.6em; margin: 0 0.25em; line-height: 1; border-radius: 0.35em;\">\n",
       "    $1 billion\n",
       "    <span style=\"font-size: 0.8em; font-weight: bold; line-height: 1; border-radius: 0.35em; vertical-align: middle; margin-left: 0.5rem\">MONEY</span>\n",
       "</mark>\n",
       "</div></span>"
      ],
      "text/plain": [
       "<IPython.core.display.HTML object>"
      ]
     },
     "metadata": {},
     "output_type": "display_data"
    }
   ],
   "source": [
    "for ent in doc.ents:\n",
    "    print(ent.text, ent.start_char, ent.end_char, ent.label_)\n",
    "spacy.displacy.render(doc, style=\"ent\")"
   ]
  },
  {
   "cell_type": "code",
   "execution_count": 13,
   "id": "9c3cf282-35cf-4d55-996f-83e2d5de2388",
   "metadata": {},
   "outputs": [
    {
     "name": "stdout",
     "output_type": "stream",
     "text": [
      "Calvert Cliffs 2\n",
      " 0 17 PLACE\n",
      "Feedwater Pump Inoperable 27 52 ORG\n",
      "Improper Reset of 60 77 FAC\n",
      "August 10, 2021 111 126 DATE\n",
      "22 154 156 CARDINAL\n",
      "Feedwater 167 176 PERSON\n",
      "March 2021 234 244 DATE\n",
      "22 263 265 CARDINAL\n",
      "22 402 404 CARDINAL\n",
      "22 482 484 CARDINAL\n"
     ]
    },
    {
     "data": {
      "text/html": [
       "<span class=\"tex2jax_ignore\"><div class=\"entities\" style=\"line-height: 2.5; direction: ltr\">\n",
       "<mark class=\"entity\" style=\"background: #ddd; padding: 0.45em 0.6em; margin: 0 0.25em; line-height: 1; border-radius: 0.35em;\">\n",
       "    Calvert Cliffs 2\n",
       "\n",
       "    <span style=\"font-size: 0.8em; font-weight: bold; line-height: 1; border-radius: 0.35em; vertical-align: middle; margin-left: 0.5rem\">PLACE</span>\n",
       "</mark>\n",
       "Auxiliary \n",
       "<mark class=\"entity\" style=\"background: #7aecec; padding: 0.45em 0.6em; margin: 0 0.25em; line-height: 1; border-radius: 0.35em;\">\n",
       "    Feedwater Pump Inoperable\n",
       "    <span style=\"font-size: 0.8em; font-weight: bold; line-height: 1; border-radius: 0.35em; vertical-align: middle; margin-left: 0.5rem\">ORG</span>\n",
       "</mark>\n",
       " due to \n",
       "<mark class=\"entity\" style=\"background: #9cc9cc; padding: 0.45em 0.6em; margin: 0 0.25em; line-height: 1; border-radius: 0.35em;\">\n",
       "    Improper Reset of\n",
       "    <span style=\"font-size: 0.8em; font-weight: bold; line-height: 1; border-radius: 0.35em; vertical-align: middle; margin-left: 0.5rem\">FAC</span>\n",
       "</mark>\n",
       " Trip Throttle Valve</br>Abstract: On \n",
       "<mark class=\"entity\" style=\"background: #bfe1d9; padding: 0.45em 0.6em; margin: 0 0.25em; line-height: 1; border-radius: 0.35em;\">\n",
       "    August 10, 2021\n",
       "    <span style=\"font-size: 0.8em; font-weight: bold; line-height: 1; border-radius: 0.35em; vertical-align: middle; margin-left: 0.5rem\">DATE</span>\n",
       "</mark>\n",
       " it was determined that the \n",
       "<mark class=\"entity\" style=\"background: #e4e7d2; padding: 0.45em 0.6em; margin: 0 0.25em; line-height: 1; border-radius: 0.35em;\">\n",
       "    22\n",
       "    <span style=\"font-size: 0.8em; font-weight: bold; line-height: 1; border-radius: 0.35em; vertical-align: middle; margin-left: 0.5rem\">CARDINAL</span>\n",
       "</mark>\n",
       " Auxiliary \n",
       "<mark class=\"entity\" style=\"background: #aa9cfc; padding: 0.45em 0.6em; margin: 0 0.25em; line-height: 1; border-radius: 0.35em;\">\n",
       "    Feedwater\n",
       "    <span style=\"font-size: 0.8em; font-weight: bold; line-height: 1; border-radius: 0.35em; vertical-align: middle; margin-left: 0.5rem\">PERSON</span>\n",
       "</mark>\n",
       " (AFW) Pump trip throttle valve was not reset properly in \n",
       "<mark class=\"entity\" style=\"background: #bfe1d9; padding: 0.45em 0.6em; margin: 0 0.25em; line-height: 1; border-radius: 0.35em;\">\n",
       "    March 2021\n",
       "    <span style=\"font-size: 0.8em; font-weight: bold; line-height: 1; border-radius: 0.35em; vertical-align: middle; margin-left: 0.5rem\">DATE</span>\n",
       "</mark>\n",
       ". As a result, the \n",
       "<mark class=\"entity\" style=\"background: #e4e7d2; padding: 0.45em 0.6em; margin: 0 0.25em; line-height: 1; border-radius: 0.35em;\">\n",
       "    22\n",
       "    <span style=\"font-size: 0.8em; font-weight: bold; line-height: 1; border-radius: 0.35em; vertical-align: middle; margin-left: 0.5rem\">CARDINAL</span>\n",
       "</mark>\n",
       " AFW Pump was determined to be inoperable for a period longer than allowed by the technical specification condition completion time. The \n",
       "<mark class=\"entity\" style=\"background: #e4e7d2; padding: 0.45em 0.6em; margin: 0 0.25em; line-height: 1; border-radius: 0.35em;\">\n",
       "    22\n",
       "    <span style=\"font-size: 0.8em; font-weight: bold; line-height: 1; border-radius: 0.35em; vertical-align: middle; margin-left: 0.5rem\">CARDINAL</span>\n",
       "</mark>\n",
       " AFW Pump was subsequently reset properly. The cause of the improper reset of \n",
       "<mark class=\"entity\" style=\"background: #e4e7d2; padding: 0.45em 0.6em; margin: 0 0.25em; line-height: 1; border-radius: 0.35em;\">\n",
       "    22\n",
       "    <span style=\"font-size: 0.8em; font-weight: bold; line-height: 1; border-radius: 0.35em; vertical-align: middle; margin-left: 0.5rem\">CARDINAL</span>\n",
       "</mark>\n",
       " AFW Pump trip throttle valve was due to inadequate procedural guidance. Actions were taken to update the procedure providing additional detail to ensure the trip throttle valve is reset properly.</div></span>"
      ],
      "text/plain": [
       "<IPython.core.display.HTML object>"
      ]
     },
     "metadata": {},
     "output_type": "display_data"
    }
   ],
   "source": [
    "for ent in doc_LER.ents:\n",
    "    print(ent.text, ent.start_char, ent.end_char, ent.label_)\n",
    "spacy.displacy.render(doc_LER, style=\"ent\")"
   ]
  },
  {
   "cell_type": "code",
   "execution_count": 16,
   "id": "429c204a-6169-447a-89b6-71b84464be79",
   "metadata": {},
   "outputs": [
    {
     "data": {
      "text/plain": [
       "<spacy.vocab.Vocab at 0x170227fc3a0>"
      ]
     },
     "metadata": {},
     "output_type": "display_data"
    }
   ],
   "source": [
    "display(nlp.vocab)"
   ]
  },
  {
   "cell_type": "code",
   "execution_count": 3,
   "id": "c80e94ba-7781-44b2-870c-fe590202012a",
   "metadata": {},
   "outputs": [
    {
     "name": "stdout",
     "output_type": "stream",
     "text": [
      "[('Tokyo Tower', 0, 2, 'BUILDING')]\n"
     ]
    }
   ],
   "source": [
    "import spacy\n",
    "from spacy.tokens import DocBin\n",
    "\n",
    "nlp = spacy.blank(\"en\")\n",
    "training_data = [\n",
    "  (\"Tokyo Tower is 333m tall.\", [(0, 11, \"BUILDING\")]),\n",
    "]\n",
    "# the DocBin will store the example documents\n",
    "db = DocBin()\n",
    "for text, annotations in training_data:\n",
    "    doc = nlp(text)\n",
    "    ents = []\n",
    "    for start, end, label in annotations:\n",
    "        span = doc.char_span(start, end, label=label)\n",
    "        ents.append(span)\n",
    "    doc.ents = ents\n",
    "    db.add(doc)\n",
    "    print([(e.text, e.start, e.end, e.label_) for e in doc.ents])\n",
    "    \n",
    "db.to_disk(\"./train.spacy\")"
   ]
  },
  {
   "cell_type": "code",
   "execution_count": 15,
   "id": "1cf99a92-259d-4426-9e4a-dbb77bcb872c",
   "metadata": {},
   "outputs": [
    {
     "name": "stdout",
     "output_type": "stream",
     "text": [
      "[i] Auto-detected token-per-line NER format\n",
      "[i] Grouping every 1 sentences into a document.\n",
      "[!] To generate better training data, you may want to group sentences into\n",
      "documents with `-n 10`.\n",
      "[+] Generated output file (7 documents): 10_3882021001_2003.spacy\n"
     ]
    }
   ],
   "source": [
    "!python -m spacy convert -C -c \"ner\" 10_3882021001_2003.conll ."
   ]
  },
  {
   "cell_type": "code",
   "execution_count": 32,
   "id": "f996fa86-d472-4cbf-960e-a15f464c0761",
   "metadata": {},
   "outputs": [
    {
     "data": {
      "text/plain": [
       "\"Plant _ O O\\n: _ O O\\nLaSalle _ O O\\n1 _ O O\\n. _ O O\\n\\nSafety _ O O\\nRelated _ O O\\nElectrical _ O O\\nBus _ O O\\nUndervoltage _ O O\\nResults _ O O\\nin _ O O\\nValid _ O O\\nActuation _ O O\\nof _ O O\\nthe _ O O\\nCommon _ O O\\nEmergency _ O O\\nDiesel _ O O\\nGenerator _ O O\\n. _ O O\\n\\nOn _ O O\\nFebruary _ O O\\n28 _ O O\\n, _ O O\\n2019 _ O O\\n, _ O O\\nwhile _ O O\\nshut _ O O\\ndown _ O O\\nfor _ O O\\na _ O O\\nscheduled _ O O\\nrefueling _ O O\\noutage _ O O\\nin _ O O\\nMode _ O O\\n5 _ O O\\n, _ O O\\nUnit _ O O\\n2 _ O O\\nDivision _ O O\\n1 _ O O\\nsafety-related _ O O\\nelectrical _ O O\\nbus _ O O\\n( _ O O\\n241Y _ O O\\n) _ O O\\ntripped _ O O\\nduring _ O O\\nsurveillance _ O O\\ntesting _ O O\\n. _ O O\\n\\nThe _ O O\\npurpose _ O O\\nof _ O O\\nthe _ O O\\nsurveillance _ O O\\ntesting _ O O\\nwas _ O O\\nto _ O O\\ndemonstrate _ O O\\nthe _ O O\\noperability _ O O\\nof _ O O\\nthe _ O O\\nair _ O O\\ncircuit _ O O\\nbreakers _ O O\\n( _ O O\\nACBs _ O O\\n) _ O O\\nnecessary _ O O\\nto _ O O\\nprovide _ O O\\nthe _ O O\\nsecond _ O O\\noff _ O O\\nsite _ O O\\nsource _ O O\\nto _ O O\\nUnit _ O O\\n2 _ O O\\n. _ O O\\n\\nThe _ O O\\ntrip _ O O\\nof _ O O\\nthe _ O O\\nelectrical _ O O\\nbus _ O O\\nresulted _ O O\\nin _ O O\\na _ O O\\nvalid _ O O\\nundervoltage _ O O\\nactuation _ O O\\nsignal _ O O\\nto _ O O\\nthe _ O O\\ncommon _ O O\\nemergency _ O O\\ndiesel _ O O\\ngenerator _ O O\\n( _ O O\\n' _ O O\\n0 _ O O\\n' _ O O\\nEDG _ O O\\n) _ O O\\n, _ O O\\ncausing _ O O\\nit _ O O\\nto _ O O\\nstart _ O O\\nand _ O O\\nload _ O O\\nto _ O O\\nBus _ O O\\n241Y _ O O\\n. _ O O\\n\\nResulting _ O O\\nfrom _ O O\\nthe _ O O\\n241Y _ O O\\nbus _ O O\\ntrip _ O O\\nand _ O O\\n' _ O O\\n0 _ O O\\n' _ O O\\nEDG _ O O\\nactuation _ O O\\nsignal _ O O\\n, _ O O\\nplant _ O O\\nresponses _ O O\\noccurred _ O O\\nas _ O O\\ndesigned _ O O\\n. _ O O\\n\\nAffected _ O O\\nsystems _ O O\\nwere _ O O\\nrestored _ O O\\n, _ O O\\nwith _ O O\\nno _ O O\\nadverse _ O O\\nimpacts _ O O\\nto _ O O\\neither _ O O\\nunit _ O O\\n. _ O O\\n\\nUnit _ O O\\n1 _ O O\\nremained _ O O\\nstable _ O O\\nduring _ O O\\nthis _ O O\\nevent _ O O\\n. _ O O\\n\\nThis _ O O\\ncondition _ O O\\nwas _ O O\\npreviously _ O O\\nreported _ O O\\non _ O O\\nMarch _ O O\\n1 _ O O\\n, _ O O\\n2019 _ O O\\n( _ O O\\nENS _ O O\\n53903 _ O O\\n) _ O O\\nin _ O O\\naccordance _ O O\\nwith _ O O\\n10 _ O O\\nCFR _ O O\\n50.72 _ O O\\n( _ O O\\nb _ O O\\n) _ O O\\n( _ O O\\n3 _ O O\\n) _ O O\\n( _ O O\\niv _ O O\\n) _ O O\\n( _ O O\\nA _ O O\\n) _ O O\\nfor _ O O\\na _ O O\\nvalid _ O O\\nspecified _ O O\\nsystem _ O O\\nactuation _ O O\\n. _ O O\\n\\nThis _ O O\\nevent _ O O\\nis _ O O\\nreportable _ O O\\nin _ O O\\naccordance _ O O\\nwith _ O O\\n10 _ O O\\nCFR _ O O\\n50.73 _ O O\\n( _ O O\\na _ O O\\n) _ O O\\n( _ O O\\n2 _ O O\\n) _ O O\\n( _ O O\\niv _ O O\\n) _ O O\\n( _ O O\\nA _ O O\\n) _ O O\\n, _ O O\\nas _ O O\\nan _ O O\\nevent _ O O\\nthat _ O O\\nresults _ O O\\nin _ O O\\na _ O O\\nvalid _ O O\\nactuation _ O O\\nof _ O O\\nthe _ O O\\nemergency _ O O\\nAC _ O O\\nelectrical _ O O\\npower _ O O\\nsystem _ O O\\n. _ O O\\n\\nTroubleshooting _ O O\\nand _ O O\\ncausal _ O O\\ninvestigation _ O O\\ndetermined _ O O\\nthe _ O O\\ncause _ O O\\nwas _ O O\\nattributed _ O O\\nto _ O O\\nACB _ O O\\n2414 _ O O\\nhaving _ O O\\na _ O O\\ndegraded _ O O\\nlug _ O O\\non _ O O\\nthe _ O O\\nterminal _ O O\\nbetween _ O O\\nthe _ O O\\nUnit _ O O\\n2 _ O O\\nACB _ O O\\n2414 _ O O\\nA-phase _ O O\\ncurrent _ O O\\ntransformer _ O O\\nand _ O O\\nthe _ O O\\nUnit _ O O\\n1 _ O O\\nACB _ O O\\n1414 _ O O\\ndifferential _ O O\\ncurrent _ O O\\nrelay _ O O\\n. _ O O\\n\\nCorrective _ O O\\nactions _ O O\\nwere _ O O\\ntaken _ O O\\nto _ O O\\nreplace _ O O\\na _ O O\\ndegraded _ O O\\nlug _ O O\\non _ O O\\nthe _ O O\\nterminal _ O O\\nthat _ O O\\nfeeds _ O O\\nthe _ O O\\nrelay _ O O\\nfrom _ O O\\nthe _ O O\\nUnit _ O O\\n2 _ O O\\nBus _ O O\\n241Y _ O O\\nA-phase _ O O\\ncurrent _ O O\\ntransformer _ O O\\n. _ O O\\n\\n\""
      ]
     },
     "metadata": {},
     "output_type": "display_data"
    }
   ],
   "source": [
    "import spacy\n",
    "import sys, os, shutil\n",
    "\n",
    "path_train = r'.\\ner_ler\\data'\n",
    "path_test = r'.\\ner_ler\\data_test'\n",
    "path_corpus = r'.\\ner_ler\\corpus'\n",
    "\n",
    "# Generating the training dataset\n",
    "output = f'ler_training'\n",
    "if os.path.exists(os.path.join(path_corpus,  f'{output}.spacy')) == False:\n",
    "    path = path_train\n",
    "    path_original = os.path.join(path, f'annotation')\n",
    "    path_modified = os.path.join(path, f'annotation_modified')\n",
    "    path_spacy    = os.path.join(path, f'annotation_spacy')\n",
    "    \n",
    "    if os.path.isdir(path_modified) == False:\n",
    "        os.mkdir(path_modified)\n",
    "    if os.path.isdir(path_spacy) == False:\n",
    "        os.mkdir(path_spacy)\n",
    "\n",
    "    with open(os.path.join(path_modified, f'{output}.conll'), 'w', encoding='utf8') as ler:\n",
    "        ler.write(\"-DOCSTART- -X- O O\\n\\n\")\n",
    "    for filename in os.listdir(path_original):\n",
    "        with open(os.path.join(path_original, filename, 'chaut.conll'), 'r', encoding='utf8') as origin:\n",
    "            text = origin.read()\n",
    "        with open(os.path.join(path_modified, f'{output}.conll'), 'a', encoding='utf8') as ler:\n",
    "            ler.write(text)\n",
    "\n",
    "    spacy.cli.convert(os.path.join(path_modified, f'{output}.conll'), os.path.join(path_spacy), converter='ner', file_type='spacy', concatenate=True)\n",
    "    shutil.copyfile(os.path.join(path_spacy, f'{output}.spacy'), os.path.join(path_corpus, f'{output}.spacy'))\n",
    "\n",
    "# Generating the testing dataset\n",
    "output = f'ler_eval'\n",
    "if os.path.exists(os.path.join(path_corpus,  f'{output}.spacy')) == False:\n",
    "    path = path_test\n",
    "    path_original = os.path.join(path, f'annotation')\n",
    "    path_modified = os.path.join(path, f'annotation_modified')\n",
    "    path_spacy    = os.path.join(path, f'annotation_spacy')\n",
    "    \n",
    "    if os.path.isdir(path_modified) == False:\n",
    "        os.mkdir(path_modified)\n",
    "    if os.path.isdir(path_spacy) == False:\n",
    "        os.mkdir(path_spacy)\n",
    "\n",
    "    with open(os.path.join(path_modified, f'{output}.conll'), 'w', encoding='utf8') as ler:\n",
    "        ler.write(\"-DOCSTART- -X- O O\\n\\n\")\n",
    "    for filename in os.listdir(path_original):\n",
    "        with open(os.path.join(path_original, filename, 'rossella.conll'), 'r', encoding='utf8') as origin:\n",
    "            text = origin.read()\n",
    "        with open(os.path.join(path_modified, f'{output}.conll'), 'a', encoding='utf8') as ler:\n",
    "            ler.write(text)\n",
    "\n",
    "    spacy.cli.convert(os.path.join(path_modified, f'{output}.conll'), os.path.join(path_spacy), converter='ner', file_type='spacy', concatenate=True)\n",
    "    shutil.copyfile(os.path.join(path_spacy, f'{output}.spacy'), os.path.join(path_corpus, f'{output}.spacy'))"
   ]
  },
  {
   "cell_type": "code",
   "execution_count": null,
   "id": "b0eae487-bd69-467a-a699-d84bf19b6b00",
   "metadata": {},
   "outputs": [],
   "source": []
  }
 ],
 "metadata": {
  "kernelspec": {
   "display_name": "nlp",
   "language": "python",
   "name": "nlp"
  },
  "language_info": {
   "codemirror_mode": {
    "name": "ipython",
    "version": 3
   },
   "file_extension": ".py",
   "mimetype": "text/x-python",
   "name": "python",
   "nbconvert_exporter": "python",
   "pygments_lexer": "ipython3",
   "version": "3.10.4"
  }
 },
 "nbformat": 4,
 "nbformat_minor": 5
}
